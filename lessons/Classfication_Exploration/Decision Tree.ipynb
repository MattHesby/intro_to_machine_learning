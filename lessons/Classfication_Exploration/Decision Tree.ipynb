{
 "cells": [
  {
   "cell_type": "markdown",
   "metadata": {},
   "source": [
    "# Decision Tree with the Iris Dataset\n",
    "\n",
    "By Jen Selby and Carl Shan\n",
    "\n",
    "For an explanation of decision trees, see [our course notes](https://jennselby.github.io/MachineLearningCourseNotes/#decision-trees).\n",
    "\n",
    "This notebook uses example code from http://scikit-learn.org/stable/modules/tree.html."
   ]
  },
  {
   "cell_type": "markdown",
   "metadata": {},
   "source": [
    "## Setup\n",
    "\n",
    "Before you can run this code, you will need to install some extra software.\n",
    "\n",
    "1. Install homebrew (if you don't already have it) following the [directions on their site](https://brew.sh/).\n",
    "1. Install the graphviz library that will let us visualize the decision tree. In Terminal, run\n",
    ">`brew install graphviz`\n",
    "1. Install the pydot library that allows you to call graphviz from Python. In Terminal run\n",
    ">`pip3 install pydot`."
   ]
  },
  {
   "cell_type": "markdown",
   "metadata": {},
   "source": [
    "# Introduction\n",
    "\n",
    "This Jupyter Notebook will have you look at the Iris dataset.\n",
    "\n",
    "The Iris flower dataset is so famous it has its own [Wikipedia page](https://en.wikipedia.org/wiki/Iris_flower_data_set). The dataset contains 150 records with 5 different attributes.\n",
    "\n",
    "The dataset contains 50 samples from three different species of the *Iris* flowers: *setosa*, *virginica* and *versicolor*).\n",
    "\n",
    "![Iris Flowers](https://s3.amazonaws.com/assets.datacamp.com/blog_assets/Machine+Learning+R/iris-machinelearning.png)\n",
    "\n",
    "You will be building a decision tree classification algorithm to predict which species a flower is, given that you know the 5 attributes of the folor."
   ]
  },
  {
   "cell_type": "code",
   "execution_count": null,
   "metadata": {},
   "outputs": [],
   "source": [
    "from sklearn.datasets import load_iris # the iris dataset is included in scikit-learn\n",
    "from sklearn import tree # for fitting our model\n",
    "\n",
    "# these are all needed for the particular visualization we're doing\n",
    "from sklearn.externals.six import StringIO\n",
    "import pydot\n",
    "import os.path\n",
    "\n",
    "# to display graphs in this notebook\n",
    "%pylab inline"
   ]
  },
  {
   "cell_type": "markdown",
   "metadata": {},
   "source": [
    "## Iris Dataset\n",
    "\n",
    "Before you go on, make sure you understand this dataset. Modify the cell below to examine different parts of the dataset that are contained in the 'iris' dictionary object.\n",
    "\n",
    "What are the features? What are we trying to classify?"
   ]
  },
  {
   "cell_type": "code",
   "execution_count": null,
   "metadata": {},
   "outputs": [],
   "source": [
    "iris = load_iris()"
   ]
  },
  {
   "cell_type": "markdown",
   "metadata": {},
   "source": [
    "## Converting it to a DataFrame\n",
    "\n",
    "You can also try looking at it using a [pandas dataframe](https://jennselby.github.io/MachineLearningCourseNotes/#pandas)."
   ]
  },
  {
   "cell_type": "code",
   "execution_count": null,
   "metadata": {},
   "outputs": [],
   "source": [
    "import pandas\n",
    "iris_df = pandas.DataFrame(iris.data)\n",
    "iris_df.columns = iris.feature_names\n",
    "iris_df['target'] = [iris.target_names[target] for target in iris.target]\n",
    "iris_df.head()"
   ]
  },
  {
   "cell_type": "code",
   "execution_count": null,
   "metadata": {},
   "outputs": [],
   "source": [
    "iris_df.describe()"
   ]
  },
  {
   "cell_type": "markdown",
   "metadata": {},
   "source": [
    "## Plotting the Iris Data\n",
    "\n",
    "Let's visualize our dataset, so that we can better understand what it looks like.\n",
    "\n",
    "Change the first two variables to change which features you are looking at.\n",
    "\n",
    "Let's also break up the data into the three separate classes just for plotting."
   ]
  },
  {
   "cell_type": "code",
   "execution_count": null,
   "metadata": {},
   "outputs": [],
   "source": [
    "class_1 = iris_df[iris_df['target'] == 'setosa']\n",
    "class_2 = iris_df[iris_df['target'] == 'virginica']\n",
    "class_3 = iris_df[iris_df['target'] == 'versicolor']"
   ]
  },
  {
   "cell_type": "code",
   "execution_count": null,
   "metadata": {},
   "outputs": [],
   "source": [
    "# create a figure and label it\n",
    "fig = plt.figure()\n",
    "fig.suptitle('Two Features of the Iris Data Set')\n",
    "\n",
    "x_axis = 'sepal length (cm)'\n",
    "y_axis = 'petal width (cm)'\n",
    "\n",
    "plt.xlabel(x_axis)\n",
    "plt.ylabel(y_axis)\n",
    "\n",
    "# put the input data on the graph, with different colors and shapes for each type\n",
    "scatter_0 = plt.scatter(class_1[x_axis], class_1[y_axis],\n",
    "                            c=\"red\", marker=\"o\", label='setosa')\n",
    "scatter_1 = plt.scatter(class_2[x_axis], class_2[y_axis],\n",
    "                            c=\"blue\", marker=\"^\", label='virginica')\n",
    "scatter_2 = plt.scatter(class_3[x_axis], class_3[y_axis],\n",
    "                            c=\"yellow\", marker=\"*\", label='versicolor')\n",
    "\n",
    "# add a legend to explain which points are which\n",
    "plt.legend(handles=[scatter_0, scatter_1, scatter_2])\n",
    "\n",
    "# show the graph\n",
    "plt.show()"
   ]
  },
  {
   "cell_type": "markdown",
   "metadata": {},
   "source": [
    "## Training a Decision Tree Model Training\n",
    "\n",
    "Next, we want to fit our decision tree model to the iris data we're using."
   ]
  },
  {
   "cell_type": "code",
   "execution_count": null,
   "metadata": {},
   "outputs": [],
   "source": [
    "iris_df.columns"
   ]
  },
  {
   "cell_type": "code",
   "execution_count": null,
   "metadata": {},
   "outputs": [],
   "source": [
    "training_cols = [\n",
    "                 'sepal length (cm)', \n",
    "                 'sepal width (cm)', \n",
    "                 'petal length (cm)',\n",
    "                 'petal width (cm)'\n",
    "                ]\n",
    "\n",
    "testing_col = ['target']"
   ]
  },
  {
   "cell_type": "code",
   "execution_count": null,
   "metadata": {},
   "outputs": [],
   "source": [
    "# Train the model on all of the data\n",
    "# Look how easy it is!\n",
    "\n",
    "model = tree.DecisionTreeClassifier()\n",
    "model.fit(iris_df[training_cols], iris_df[testing_col])"
   ]
  },
  {
   "cell_type": "markdown",
   "metadata": {},
   "source": [
    "Cool. Now you've built a Decision Tree classification model. Great work!\n",
    "\n",
    "Let's figure out how well this model fit the data now."
   ]
  },
  {
   "cell_type": "markdown",
   "metadata": {},
   "source": [
    "## Validation: Visualization of Model Output\n",
    "\n",
    "Using `graphviz` and `pydot`, we can create a flowchart that shows the model decisions. The flowchart will be printed to a PDF on your desktop."
   ]
  },
  {
   "cell_type": "code",
   "execution_count": null,
   "metadata": {},
   "outputs": [],
   "source": [
    "dot_data = StringIO()\n",
    "tree.export_graphviz(model, out_file=dot_data, feature_names=iris.feature_names, class_names=iris.target_names,\n",
    "                     filled=True, rounded=True, special_characters=True)\n",
    "graph = pydot.graph_from_dot_data(dot_data.getvalue())[0]\n",
    "graph.write_pdf(os.path.expanduser(\"~/Desktop/iris_decision_tree.pdf\"))"
   ]
  },
  {
   "cell_type": "markdown",
   "metadata": {},
   "source": [
    "Now pick one set of exercises below to work on for your homework."
   ]
  },
  {
   "cell_type": "markdown",
   "metadata": {},
   "source": [
    "# Exercise Option (Standard Difficulty)\n",
    "\n",
    "Answer the following questions. You may find it helpful to compare the PDF output to the graph above (remember you can change which columns the graph is displaying), to see the boundaries the decision tree is finding.\n",
    "\n",
    "1. According to the PDF, what feature values would tell you with high probability that you were looking at a setosa iris?\n",
    "1. According to the PDF, which features would you look at to tell a virginica from a versicolor?\n",
    "1. What is the value array in the PDF showing?\n",
    "1. Try using subsets of the input data (look at the `iris_inputs` variable in [Logistic Regression Iris](https://nbviewer.jupyter.org/github/jennselby/MachineLearningCourseNotes/blob/master/assets/ipynb/LogisticRegressionIris.ipynb) to see how to use only some of the columns in the model). How does this change the decision tree?"
   ]
  },
  {
   "cell_type": "code",
   "execution_count": null,
   "metadata": {},
   "outputs": [],
   "source": [
    "### YOUR ANSWERS HERE\n",
    "\n",
    "\n",
    "\n",
    "\n",
    "\n"
   ]
  },
  {
   "cell_type": "markdown",
   "metadata": {},
   "source": [
    "# Exercise Option (Advanced)\n",
    "\n",
    "Try fitting a Random Forest model to the iris data. See [this example](http://scikit-learn.org/stable/modules/ensemble.html#forest) to help you get started.\n",
    "\n",
    "How does the performance and output of Random Forest compare to the single Decision Tree? Since you can't get the graphical representation of the Random Forest model the way we did for the single Decision Tree, you'll have to think of a different way to understand what the model is doing. Think about how we can [validate the performance of our classifier models](https://jennselby.github.io/MachineLearningCourseNotes/#classification-validation)."
   ]
  },
  {
   "cell_type": "code",
   "execution_count": null,
   "metadata": {},
   "outputs": [],
   "source": [
    "### YOUR ANSWERS HERE\n",
    "\n",
    "\n",
    "\n",
    "\n",
    "\n"
   ]
  }
 ],
 "metadata": {
  "kernelspec": {
   "display_name": "Python 3",
   "language": "python",
   "name": "python3"
  },
  "language_info": {
   "codemirror_mode": {
    "name": "ipython",
    "version": 3
   },
   "file_extension": ".py",
   "mimetype": "text/x-python",
   "name": "python",
   "nbconvert_exporter": "python",
   "pygments_lexer": "ipython3",
   "version": "3.5.2"
  }
 },
 "nbformat": 4,
 "nbformat_minor": 2
}
